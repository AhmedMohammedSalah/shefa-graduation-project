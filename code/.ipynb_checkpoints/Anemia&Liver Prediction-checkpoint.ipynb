{
 "cells": [
  {
   "cell_type": "code",
   "execution_count": 1,
   "metadata": {},
   "outputs": [
    {
     "ename": "ModuleNotFoundError",
     "evalue": "No module named 'joblib'",
     "output_type": "error",
     "traceback": [
      "\u001b[1;31m---------------------------------------------------------------------------\u001b[0m",
      "\u001b[1;31mModuleNotFoundError\u001b[0m                       Traceback (most recent call last)",
      "\u001b[1;32m<ipython-input-1-ee4c282bd155>\u001b[0m in \u001b[0;36m<module>\u001b[1;34m()\u001b[0m\n\u001b[1;32m----> 1\u001b[1;33m \u001b[1;32mimport\u001b[0m \u001b[0mjoblib\u001b[0m\u001b[1;33m\u001b[0m\u001b[0m\n\u001b[0m\u001b[0;32m      2\u001b[0m \u001b[1;32mdef\u001b[0m \u001b[0manemiaPredict\u001b[0m\u001b[1;33m(\u001b[0m\u001b[0mlist\u001b[0m\u001b[1;33m)\u001b[0m\u001b[1;33m:\u001b[0m\u001b[1;33m\u001b[0m\u001b[0m\n\u001b[0;32m      3\u001b[0m     \u001b[0mfileName\u001b[0m\u001b[1;33m=\u001b[0m\u001b[1;34m'anemia_model.joblib'\u001b[0m\u001b[1;33m\u001b[0m\u001b[0m\n\u001b[0;32m      4\u001b[0m     \u001b[0manemiaModel\u001b[0m\u001b[1;33m=\u001b[0m\u001b[0mjoblib\u001b[0m\u001b[1;33m.\u001b[0m\u001b[0mload\u001b[0m\u001b[1;33m(\u001b[0m\u001b[0mfileName\u001b[0m\u001b[1;33m)\u001b[0m\u001b[1;33m\u001b[0m\u001b[0m\n\u001b[0;32m      5\u001b[0m     \u001b[1;32mreturn\u001b[0m \u001b[0manemiaModel\u001b[0m\u001b[1;33m.\u001b[0m\u001b[0mpredict\u001b[0m\u001b[1;33m(\u001b[0m\u001b[1;33m[\u001b[0m\u001b[0mlist\u001b[0m\u001b[1;33m]\u001b[0m\u001b[1;33m)\u001b[0m\u001b[1;33m[\u001b[0m\u001b[1;36m0\u001b[0m\u001b[1;33m]\u001b[0m\u001b[1;33m\u001b[0m\u001b[0m\n",
      "\u001b[1;31mModuleNotFoundError\u001b[0m: No module named 'joblib'"
     ]
    }
   ],
   "source": [
    "import joblib\n",
    "def anemiaPredict(list):\n",
    "    fileName='anemia_model.joblib'\n",
    "    anemiaModel=joblib.load(fileName)\n",
    "    return anemiaModel.predict([list])[0]\n",
    "def liverFailurePredict(list):\n",
    "    fileName='liver_model.joblib'\n",
    "    liverModel=joblib.load(fileName)\n",
    "    return liverModel.predict([list])[0]"
   ]
  },
  {
   "cell_type": "code",
   "execution_count": 5,
   "metadata": {},
   "outputs": [
    {
     "name": "stdout",
     "output_type": "stream",
     "text": [
      "You have an anemia\n"
     ]
    }
   ],
   "source": [
    "#Real values [1,13.5,28,36.3,77.2] refer to that person has not an anemia\n",
    "#Real values [1,11.3,27.1,34.3,79.1] refer to that person has an anemia\n",
    "\n",
    "parameterList=[1,11.3,27.1,34.3,79.1]\n",
    "if anemiaPredict(parameterList)==0:\n",
    "    print(\"You don't have an anemia\")\n",
    "else:\n",
    "    print(\"You have an anemia\")\n"
   ]
  },
  {
   "cell_type": "code",
   "execution_count": 6,
   "metadata": {},
   "outputs": [
    {
     "name": "stdout",
     "output_type": "stream",
     "text": [
      "There is no prediction of liver failure\n"
     ]
    }
   ],
   "source": [
    "#Age of the patient,Total Bilirubin\tDirect Bilirubin,Alkphos Alkaline Phosphotase,Sgpt Alamine Aminotransferase,\n",
    "#Sgot Aspartate Aminotransferase,Total Protiens,ALB Albumin,A/G Ratio Albumin and Globulin Ratio,Gender of the patient_Female,\n",
    "#Gender of the patient_Male\n",
    "#[65.0,0.7,0.1,187.0,16.0,18.0,6.8,3.3,0.90,1,0] Liver Failure\n",
    "#[17.0,0.9,0.3,202.0,22.0,19.0,7.4,4.1,1.20,0,1] No liver Disease\n",
    "parameterList=[17.0,0.9,0.3,202.0,22.0,19.0,7.4,4.1,1.20,0,1]\n",
    "if liverFailurePredict(parameterList)==1:\n",
    "    print('Sorry sir we are predicting that there is a Liver failure so you need to visit the Doctor')\n",
    "else:\n",
    "    print(\"There is no prediction of liver failure\")"
   ]
  },
  {
   "cell_type": "code",
   "execution_count": null,
   "metadata": {
    "collapsed": true
   },
   "outputs": [],
   "source": [
    "  "
   ]
  }
 ],
 "metadata": {
  "kernelspec": {
   "display_name": "Python 3",
   "language": "python",
   "name": "python3"
  },
  "language_info": {
   "codemirror_mode": {
    "name": "ipython",
    "version": 3
   },
   "file_extension": ".py",
   "mimetype": "text/x-python",
   "name": "python",
   "nbconvert_exporter": "python",
   "pygments_lexer": "ipython3",
   "version": "3.6.3"
  }
 },
 "nbformat": 4,
 "nbformat_minor": 2
}
