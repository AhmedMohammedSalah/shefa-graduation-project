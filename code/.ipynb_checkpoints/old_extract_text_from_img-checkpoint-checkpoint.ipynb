{
 "cells": [
  {
   "cell_type": "code",
   "execution_count": 41,
   "metadata": {
    "collapsed": true
   },
   "outputs": [],
   "source": [
    "import pytesseract\n",
    "from PIL import Image\n",
    "import re\n",
    "import pandas as pd\n",
    "import cv2\n"
   ]
  },
  {
   "cell_type": "code",
   "execution_count": 62,
   "metadata": {
    "collapsed": true
   },
   "outputs": [],
   "source": [
    "from PIL import Image\n",
    "\n",
    "# Load image\n",
    "pytesseract.pytesseract.tesseract_cmd = r'C:\\Program Files\\Tesseract-OCR\\tesseract.exe'\n",
    "img = cv2.imread('1.jpeg')\n",
    "\n",
    "# Convert the image to grayscale\n",
    "gray = cv2.cvtColor(img, cv2.COLOR_BGR2GRAY)\n",
    "\n",
    "text = pytesseract.image_to_string(gray)\n",
    "\n",
    "words = text.split()\n"
   ]
  },
  {
   "cell_type": "code",
   "execution_count": 63,
   "metadata": {
    "collapsed": true
   },
   "outputs": [],
   "source": [
    " parameter_types_cbc = {\n",
    "        'hgb': ['hgb', 'haemoglobin', 'hemoglobin','Hemoglobin'],\n",
    "        'mcv': ['mcv', 'mean corpuscular volume', 'm.c.v'],\n",
    "        'mch': ['mch', 'mean corpuscular hemoglobin', 'm.c.h'],\n",
    "        'mchc': ['mchc', 'mean corpuscular hemoglobin concentration', 'm.c.h.c'],\n",
    "    }"
   ]
  },
  {
   "cell_type": "code",
   "execution_count": 64,
   "metadata": {
    "collapsed": true
   },
   "outputs": [],
   "source": [
    "lft_feature_keywords = {\n",
    "    'alanine aminotransferase': ['alt', 'sgpt'],\n",
    "    'aspartate aminotransferase': ['ast', 'sgot'],\n",
    "    'alkaline phosphatase': ['alp'],\n",
    "    'total bilirubin': ['tbil', 'tb'],\n",
    "    'direct bilirubin': ['dbil', 'db'],\n",
    "    'albumin': ['alb'],\n",
    "    'prothrombin time': ['pt'],\n",
    "    'A/G ratio': ['ag ratio'],\n",
    "    'total proteins': ['tp', 'total protein']\n",
    "}"
   ]
  },
  {
   "cell_type": "code",
   "execution_count": 65,
   "metadata": {
    "collapsed": true
   },
   "outputs": [],
   "source": [
    "def extract_features(words, feature_keywords):\n",
    "    \"\"\"\n",
    "    Extracts numerical values associated with specific feature keywords from a list of words.\n",
    "    \n",
    "    Parameters:\n",
    "        - words (list): A list of strings to search for the feature keywords and their values\n",
    "        - feature_keywords (dict): A dictionary mapping feature names to lists of possible keywords\n",
    "        \n",
    "    Returns:\n",
    "        A dictionary mapping feature names to their extracted numerical values\n",
    "    \"\"\"\n",
    "    # Convert all words to lowercase for case-insensitive matching\n",
    "    words = [w.lower() for w in words]\n",
    "    \n",
    "    # Define a regex pattern to match numbers\n",
    "    number_pattern = r'\\d+(\\.\\d+)?'\n",
    "    \n",
    "    # Extract the value for each feature, if present\n",
    "    features = {}\n",
    "    for feature_name, keywords in feature_keywords.items():\n",
    "        for keyword in keywords:\n",
    "            # Find all occurrences of the keyword in the list of words\n",
    "            indices = [i for i, word in enumerate(words) if word == keyword]\n",
    "            if indices:\n",
    "                # For each occurrence, look for the first following numerical value\n",
    "                value_found = False\n",
    "                for index in indices:\n",
    "                    current_index = index + 1\n",
    "                    while current_index < len(words):\n",
    "                        # Search for a number following the feature keyword\n",
    "                        match = re.search(number_pattern, words[current_index])\n",
    "                        if match:\n",
    "                            try:\n",
    "                                value = float(match.group(0))\n",
    "                                features[feature_name] = value\n",
    "                                value_found = True\n",
    "                                break\n",
    "                            except ValueError:\n",
    "                                pass\n",
    "                        current_index += 1\n",
    "                    if value_found:\n",
    "                        break\n",
    "    \n",
    "    return features\n"
   ]
  },
  {
   "cell_type": "code",
   "execution_count": 66,
   "metadata": {
    "collapsed": true
   },
   "outputs": [],
   "source": [
    "def choose_test_to_extract(features):\n",
    "    # Define the keywords to look for in each feature\n",
    "    cbc_keywords = ['cbc', 'complete', 'blood ', 'hematology ']\n",
    "    lft_keywords = ['lft', 'liver', 'function ', 'biochemistry ']\n",
    "\n",
    "    for feature in features:\n",
    "        if any(cbc_item in feature.lower() for cbc_item in cbc_keywords):\n",
    "            print(\"CBC test detected\")\n",
    "            \n",
    "            return extract_features(features, parameter_types_cbc) \n",
    "            \n",
    "        elif any(lft_item in feature.lower() for lft_item in lft_keywords):\n",
    "            print(\"LFT test detected\")\n",
    "            \n",
    "            return extract_features(features, lft_feature_keywords)\n",
    "\n",
    "    # No matching test type was found\n",
    "    return \"This type of test is not supported\"\n"
   ]
  },
  {
   "cell_type": "code",
   "execution_count": 67,
   "metadata": {},
   "outputs": [
    {
     "data": {
      "text/plain": [
       "'This type of test is not supported'"
      ]
     },
     "execution_count": 67,
     "metadata": {},
     "output_type": "execute_result"
    }
   ],
   "source": [
    "choose_test_to_extract(words)"
   ]
  },
  {
   "cell_type": "code",
   "execution_count": null,
   "metadata": {
    "collapsed": true
   },
   "outputs": [],
   "source": []
  },
  {
   "cell_type": "code",
   "execution_count": null,
   "metadata": {
    "collapsed": true
   },
   "outputs": [],
   "source": []
  },
  {
   "cell_type": "code",
   "execution_count": null,
   "metadata": {
    "collapsed": true
   },
   "outputs": [],
   "source": []
  }
 ],
 "metadata": {
  "kernelspec": {
   "display_name": "Python 3",
   "language": "python",
   "name": "python3"
  },
  "language_info": {
   "codemirror_mode": {
    "name": "ipython",
    "version": 3
   },
   "file_extension": ".py",
   "mimetype": "text/x-python",
   "name": "python",
   "nbconvert_exporter": "python",
   "pygments_lexer": "ipython3",
   "version": "3.6.3"
  }
 },
 "nbformat": 4,
 "nbformat_minor": 2
}
