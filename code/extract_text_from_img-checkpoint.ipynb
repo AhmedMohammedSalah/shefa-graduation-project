{
 "cells": [
  {
   "cell_type": "code",
   "execution_count": 1,
   "metadata": {
    "collapsed": true
   },
   "outputs": [],
   "source": [
    "import pytesseract\n",
    "from PIL import Image\n",
    "import re\n",
    "import pandas as pd\n",
    "import cv2\n"
   ]
  },
  {
   "cell_type": "code",
   "execution_count": 2,
   "metadata": {},
   "outputs": [
    {
     "ename": "error",
     "evalue": "OpenCV(4.5.4) D:\\a\\opencv-python\\opencv-python\\opencv\\modules\\imgproc\\src\\color.cpp:182: error: (-215:Assertion failed) !_src.empty() in function 'cv::cvtColor'\n",
     "output_type": "error",
     "traceback": [
      "\u001b[1;31m---------------------------------------------------------------------------\u001b[0m",
      "\u001b[1;31merror\u001b[0m                                     Traceback (most recent call last)",
      "\u001b[1;32m<ipython-input-2-cd7d54d96514>\u001b[0m in \u001b[0;36m<module>\u001b[1;34m()\u001b[0m\n\u001b[0;32m      6\u001b[0m \u001b[1;33m\u001b[0m\u001b[0m\n\u001b[0;32m      7\u001b[0m \u001b[1;31m# Convert the image to grayscale\u001b[0m\u001b[1;33m\u001b[0m\u001b[1;33m\u001b[0m\u001b[0m\n\u001b[1;32m----> 8\u001b[1;33m \u001b[0mgray\u001b[0m \u001b[1;33m=\u001b[0m \u001b[0mcv2\u001b[0m\u001b[1;33m.\u001b[0m\u001b[0mcvtColor\u001b[0m\u001b[1;33m(\u001b[0m\u001b[0mimg\u001b[0m\u001b[1;33m,\u001b[0m \u001b[0mcv2\u001b[0m\u001b[1;33m.\u001b[0m\u001b[0mCOLOR_BGR2GRAY\u001b[0m\u001b[1;33m)\u001b[0m\u001b[1;33m\u001b[0m\u001b[0m\n\u001b[0m\u001b[0;32m      9\u001b[0m \u001b[1;33m\u001b[0m\u001b[0m\n\u001b[0;32m     10\u001b[0m \u001b[0mtext\u001b[0m \u001b[1;33m=\u001b[0m \u001b[0mpytesseract\u001b[0m\u001b[1;33m.\u001b[0m\u001b[0mimage_to_string\u001b[0m\u001b[1;33m(\u001b[0m\u001b[0mgray\u001b[0m\u001b[1;33m)\u001b[0m\u001b[1;33m\u001b[0m\u001b[0m\n",
      "\u001b[1;31merror\u001b[0m: OpenCV(4.5.4) D:\\a\\opencv-python\\opencv-python\\opencv\\modules\\imgproc\\src\\color.cpp:182: error: (-215:Assertion failed) !_src.empty() in function 'cv::cvtColor'\n"
     ]
    }
   ],
   "source": [
    "\n",
    "\n",
    "# Load image\n",
    "pytesseract.pytesseract.tesseract_cmd = r'C:\\Program Files\\Tesseract-OCR\\tesseract.exe'\n",
    "img = cv2.imread('Image 2023.jpeg')\n",
    "\n",
    "# Convert the image to grayscale\n",
    "gray = cv2.cvtColor(img, cv2.COLOR_BGR2GRAY)\n",
    "\n",
    "text = pytesseract.image_to_string(gray)\n",
    "\n",
    "words = text.split()\n"
   ]
  },
  {
   "cell_type": "code",
   "execution_count": 4,
   "metadata": {
    "collapsed": true
   },
   "outputs": [],
   "source": [
    " parameter_types_cbc = {\n",
    "        'hgb': ['hgb', 'haemoglobin', 'hemoglobin','Hemoglobin'],\n",
    "        'mcv': ['mcv', 'mean corpuscular volume', 'm.c.v'],\n",
    "        'mch': ['mch', 'mean corpuscular hemoglobin', 'm.c.h'],\n",
    "        'mchc':['mchc', 'mean corpuscular hemoglobin concentration', 'm.c.h.c'],\n",
    "       \n",
    "    }"
   ]
  },
  {
   "cell_type": "code",
   "execution_count": 5,
   "metadata": {
    "collapsed": true
   },
   "outputs": [],
   "source": [
    "lft_feature_keywords = {\n",
    "    'alanine aminotransferase': ['alt', 'sgpt'],\n",
    "    'aspartate aminotransferase': ['ast', 'sgot'],\n",
    "    'alkaline phosphatase': ['alp'],\n",
    "    \n",
    "    'total bilirubin': ['tbil', 'tb'],\n",
    "    'direct bilirubin': ['dbil', 'db'],\n",
    "    'albumin': ['alb'],\n",
    "    'prothrombin time': ['pt'],\n",
    "    'A/G ratio': ['ag ratio'],\n",
    "    'total proteins': ['tp', 'total protein']\n",
    "}"
   ]
  },
  {
   "cell_type": "code",
   "execution_count": null,
   "metadata": {
    "collapsed": true
   },
   "outputs": [],
   "source": []
  },
  {
   "cell_type": "code",
   "execution_count": 6,
   "metadata": {
    "collapsed": true
   },
   "outputs": [],
   "source": [
    "import re\n",
    "\n",
    "def extract_features(words, feature_keywords):\n",
    "    \"\"\"\n",
    "    Extracts numerical values associated with specific feature keywords from a list of words.\n",
    "    \n",
    "    Parameters:\n",
    "        - words (list): A list of strings to search for the feature keywords and their values\n",
    "        - feature_keywords (dict): A dictionary mapping feature names to lists of possible keywords\n",
    "        \n",
    "    Returns:\n",
    "        A dictionary mapping feature names to their extracted numerical values as a list\n",
    "    \"\"\"\n",
    "    # Convert all words to lowercase for case-insensitive matching\n",
    "    words = [w.lower() for w in words]\n",
    "    \n",
    "    # Define a regex pattern to match numbers\n",
    "    number_pattern = r'\\d+(\\.\\d+)?'\n",
    "    \n",
    "    # Extract the value for each feature, if present\n",
    "    features = []\n",
    "    for feature_name, keywords in feature_keywords.items():\n",
    "        feature_values = []\n",
    "        for keyword in keywords:\n",
    "            # Find all occurrences of the keyword in the list of words\n",
    "            indices = [i for i, word in enumerate(words) if word == keyword]\n",
    "            if indices:\n",
    "                # For each occurrence, look for the first following numerical value\n",
    "                for index in indices:\n",
    "                    current_index = index + 1\n",
    "                    while current_index < len(words):\n",
    "                        # Search for a number following the feature keyword\n",
    "                        match = re.search(number_pattern, words[current_index])\n",
    "                        if match:\n",
    "                            try:\n",
    "                                value = float(match.group(0))\n",
    "                                feature_values.append(value)\n",
    "                                break\n",
    "                            except ValueError:\n",
    "                                pass\n",
    "                        current_index += 1\n",
    "        if feature_values:\n",
    "            features.extend(feature_values)\n",
    "    \n",
    "    return features\n"
   ]
  },
  {
   "cell_type": "code",
   "execution_count": 7,
   "metadata": {
    "collapsed": true
   },
   "outputs": [],
   "source": [
    "def choose_test_to_extract(features):\n",
    "    # Define the keywords to look for in each feature\n",
    "    cbc_keywords = ['cbc', 'complete', 'blood ', 'hematology ']\n",
    "    lft_keywords = ['lft', 'liver', 'function ', 'biochemistry ']\n",
    "\n",
    "    for feature in features:\n",
    "        if any(cbc_item in feature.lower() for cbc_item in cbc_keywords):\n",
    "            print(\"CBC test detected\")\n",
    "            \n",
    "            cbc= extract_features(features, parameter_types_cbc) \n",
    "            return cbc\n",
    "            \n",
    "        elif any(lft_item in feature.lower() for lft_item in lft_keywords):\n",
    "            print(\"LFT test detected\")\n",
    "            \n",
    "            lft= extract_features(features, lft_feature_keywords)\n",
    "            return lft\n",
    "\n",
    "    # No matching test type was found\n",
    "    return \"This type of test is not supported\"\n"
   ]
  },
  {
   "cell_type": "code",
   "execution_count": 8,
   "metadata": {},
   "outputs": [
    {
     "name": "stdout",
     "output_type": "stream",
     "text": [
      "CBC test detected\n"
     ]
    },
    {
     "data": {
      "text/plain": [
       "[11.3, 79.1, 27.0, 34.3]"
      ]
     },
     "execution_count": 8,
     "metadata": {},
     "output_type": "execute_result"
    }
   ],
   "source": [
    "choose_test_to_extract(words)"
   ]
  },
  {
   "cell_type": "code",
   "execution_count": null,
   "metadata": {
    "collapsed": true
   },
   "outputs": [],
   "source": []
  }
 ],
 "metadata": {
  "kernelspec": {
   "display_name": "Python 3",
   "language": "python",
   "name": "python3"
  },
  "language_info": {
   "codemirror_mode": {
    "name": "ipython",
    "version": 3
   },
   "file_extension": ".py",
   "mimetype": "text/x-python",
   "name": "python",
   "nbconvert_exporter": "python",
   "pygments_lexer": "ipython3",
   "version": "3.6.3"
  }
 },
 "nbformat": 4,
 "nbformat_minor": 2
}
